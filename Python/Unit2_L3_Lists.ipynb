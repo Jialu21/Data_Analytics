{
  "nbformat": 4,
  "nbformat_minor": 0,
  "metadata": {
    "colab": {
      "name": "Unit2_List_Assignment_2.ipynb",
      "provenance": [],
      "collapsed_sections": [],
      "toc_visible": true
    },
    "kernelspec": {
      "name": "python3",
      "display_name": "Python 3"
    }
  },
  "cells": [
    {
      "cell_type": "markdown",
      "metadata": {
        "id": "Vgs8Kp4TidFQ"
      },
      "source": [
        "# Intrdouction to Python - List - Assingment #2  "
      ]
    },
    {
      "cell_type": "markdown",
      "metadata": {
        "id": "_Hq7Ny79iwgD"
      },
      "source": [
        "## 1.Create a list of 5 of your favorite tv shows.  ?"
      ]
    },
    {
      "cell_type": "code",
      "metadata": {
        "id": "lotvpVpvlKsR"
      },
      "source": [
        "shows = ['Planet Earth', 'Chernobyl', 'Game of Thrones', 'The Last Dance', 'Arcane']"
      ],
      "execution_count": null,
      "outputs": []
    },
    {
      "cell_type": "markdown",
      "metadata": {
        "id": "io_27RSlizno"
      },
      "source": [
        "## 2.\tPrint the list in its original order"
      ]
    },
    {
      "cell_type": "code",
      "metadata": {
        "id": "Dh1o5cAylSHB",
        "colab": {
          "base_uri": "https://localhost:8080/"
        },
        "outputId": "3cc542a4-24a6-42aa-a210-bb29874a49ae"
      },
      "source": [
        "shows = ['Planet Earth', 'Chernobyl', 'Game of Thrones', 'The Last Dance', 'Arcane']\n",
        "print(shows)"
      ],
      "execution_count": 1,
      "outputs": [
        {
          "output_type": "stream",
          "name": "stdout",
          "text": [
            "['Planet Earth', 'Chernobyl', 'Game of Thrones', 'The Last Dance', 'Arcane']\n"
          ]
        }
      ]
    },
    {
      "cell_type": "markdown",
      "metadata": {
        "id": "DAW8m8IQjRyR"
      },
      "source": [
        "## 3.\tUse the sorted() function to print the list in alphabetical order.  How is sorted() different from sort()?"
      ]
    },
    {
      "cell_type": "code",
      "metadata": {
        "id": "guULMEhrjYtT",
        "colab": {
          "base_uri": "https://localhost:8080/"
        },
        "outputId": "9d4faeb2-402d-446c-b09c-c24a0e43b6ea"
      },
      "source": [
        "shows = ['Planet Earth', 'Chernobyl', 'Game of Thrones', 'The Last Dance', 'Arcane']\n",
        "print(sorted(shows))"
      ],
      "execution_count": 2,
      "outputs": [
        {
          "output_type": "stream",
          "name": "stdout",
          "text": [
            "['Arcane', 'Chernobyl', 'Game of Thrones', 'Planet Earth', 'The Last Dance']\n"
          ]
        }
      ]
    },
    {
      "cell_type": "markdown",
      "source": [
        "sorted() temporarily sorts the list while sort() permanently sorts the list."
      ],
      "metadata": {
        "id": "UxBLROU2KbzM"
      }
    },
    {
      "cell_type": "markdown",
      "metadata": {
        "id": "dpa_YOt4jXyo"
      },
      "source": [
        "## 4.\tPrint out your original list."
      ]
    },
    {
      "cell_type": "code",
      "metadata": {
        "id": "pltxfnh3iJLW",
        "colab": {
          "base_uri": "https://localhost:8080/"
        },
        "outputId": "81c3383f-2c16-4b98-d540-863023a154cf"
      },
      "source": [
        "shows = ['Planet Earth', 'Chernobyl', 'Game of Thrones', 'The Last Dance', 'Arcane']\n",
        "print(shows)"
      ],
      "execution_count": 3,
      "outputs": [
        {
          "output_type": "stream",
          "name": "stdout",
          "text": [
            "['Planet Earth', 'Chernobyl', 'Game of Thrones', 'The Last Dance', 'Arcane']\n"
          ]
        }
      ]
    },
    {
      "cell_type": "markdown",
      "metadata": {
        "id": "Ka84RGy4jmLT"
      },
      "source": [
        "## 5.\tUsed sorted() to print your list in reverse alphabetical order."
      ]
    },
    {
      "cell_type": "code",
      "metadata": {
        "id": "34IFFtK4jrg4",
        "colab": {
          "base_uri": "https://localhost:8080/"
        },
        "outputId": "36974678-a4c9-4b88-b6ab-d355f152971c"
      },
      "source": [
        "shows = ['Planet Earth', 'Chernobyl', 'Game of Thrones', 'The Last Dance', 'Arcane']\n",
        "print(sorted(shows, reverse=True))"
      ],
      "execution_count": 11,
      "outputs": [
        {
          "output_type": "stream",
          "name": "stdout",
          "text": [
            "['The Last Dance', 'Planet Earth', 'Game of Thrones', 'Chernobyl', 'Arcane']\n"
          ]
        }
      ]
    },
    {
      "cell_type": "markdown",
      "metadata": {
        "id": "ZKHwdMnLliFy"
      },
      "source": [
        "## 6.\tCreate a message indicating how many favorite TV shows you have – use the len() function."
      ]
    },
    {
      "cell_type": "code",
      "metadata": {
        "id": "eXUDZfLOllTT",
        "colab": {
          "base_uri": "https://localhost:8080/"
        },
        "outputId": "00514c3e-4488-4436-cd9e-7bcc4898f261"
      },
      "source": [
        "shows = ['Planet Earth', 'Chernobyl', 'Game of Thrones', 'The Last Dance', 'Arcane']\n",
        "len(shows)\n",
        "message = \"I have \" + str(len(shows)) + \" favorite TV shows.\"\n",
        "print(message)"
      ],
      "execution_count": 10,
      "outputs": [
        {
          "output_type": "stream",
          "name": "stdout",
          "text": [
            "I have 5 favorite TV shows.\n"
          ]
        }
      ]
    }
  ]
}
