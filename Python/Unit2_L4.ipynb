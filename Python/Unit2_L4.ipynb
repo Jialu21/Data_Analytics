{
  "nbformat": 4,
  "nbformat_minor": 0,
  "metadata": {
    "colab": {
      "name": "Unit2_L4.ipynb",
      "provenance": [],
      "authorship_tag": "ABX9TyOZjG3vkb4f/pdYirKDZA2H"
    },
    "kernelspec": {
      "name": "python3",
      "display_name": "Python 3"
    },
    "language_info": {
      "name": "python"
    }
  },
  "cells": [
    {
      "cell_type": "markdown",
      "source": [
        "# **Unit 2 Lesson 4: Looping**"
      ],
      "metadata": {
        "id": "jBAmxWivyBPm"
      }
    },
    {
      "cell_type": "markdown",
      "source": [
        "## 1.\tCreate a list that holds 5 data variables. "
      ],
      "metadata": {
        "id": "Zeer64PpyRpe"
      }
    },
    {
      "cell_type": "code",
      "source": [
        "fruits = ['apple', 'banana', 'organge', 'watermelon', 'grape']\n",
        "print(fruits)"
      ],
      "metadata": {
        "colab": {
          "base_uri": "https://localhost:8080/"
        },
        "id": "E13pJyt3yU8G",
        "outputId": "3c0d8b96-6baa-4c4d-cfa2-a21655c58825"
      },
      "execution_count": 10,
      "outputs": [
        {
          "output_type": "stream",
          "name": "stdout",
          "text": [
            "['apple', 'banana', 'organge', 'watermelon', 'grape']\n"
          ]
        }
      ]
    },
    {
      "cell_type": "markdown",
      "source": [
        "## 2.\tPrint out those variables by using a for loop."
      ],
      "metadata": {
        "id": "EAKK4rQryVs4"
      }
    },
    {
      "cell_type": "code",
      "source": [
        "for fruit in fruits:\n",
        "  print(fruit)"
      ],
      "metadata": {
        "colab": {
          "base_uri": "https://localhost:8080/"
        },
        "id": "TXLXYtrPyaZJ",
        "outputId": "03aa42ec-c745-4a96-b81f-3508908ff3e0"
      },
      "execution_count": 11,
      "outputs": [
        {
          "output_type": "stream",
          "name": "stdout",
          "text": [
            "apple\n",
            "banana\n",
            "organge\n",
            "watermelon\n",
            "grape\n"
          ]
        }
      ]
    },
    {
      "cell_type": "markdown",
      "source": [
        "## 3.\tModify your for loop to add a message to your for loop."
      ],
      "metadata": {
        "id": "q1etzcBSybeq"
      }
    },
    {
      "cell_type": "code",
      "source": [
        "for fruit in fruits:\n",
        "  print('One of my most favorite fruit is ' + fruit + \".\")"
      ],
      "metadata": {
        "colab": {
          "base_uri": "https://localhost:8080/"
        },
        "id": "wWAH_ibCyfRH",
        "outputId": "361d6336-c228-4603-bfc9-b12f279daaa5"
      },
      "execution_count": 12,
      "outputs": [
        {
          "output_type": "stream",
          "name": "stdout",
          "text": [
            "One of my most favorite fruit is apple.\n",
            "One of my most favorite fruit is banana.\n",
            "One of my most favorite fruit is organge.\n",
            "One of my most favorite fruit is watermelon.\n",
            "One of my most favorite fruit is grape.\n"
          ]
        }
      ]
    },
    {
      "cell_type": "markdown",
      "source": [
        "## 4.\tUse a for loop to print even numbers from 1-20."
      ],
      "metadata": {
        "id": "LZL0nhQ8yf_-"
      }
    },
    {
      "cell_type": "code",
      "source": [
        "numbers = list(range(1,21))\n",
        "for num in numbers:\n",
        "  if num % 2 == 0:\n",
        "    print(num)"
      ],
      "metadata": {
        "colab": {
          "base_uri": "https://localhost:8080/"
        },
        "id": "iE8OwEVryi0v",
        "outputId": "2eb25b26-58b1-4d46-9692-3a950bc4ca11"
      },
      "execution_count": 14,
      "outputs": [
        {
          "output_type": "stream",
          "name": "stdout",
          "text": [
            "2\n",
            "4\n",
            "6\n",
            "8\n",
            "10\n",
            "12\n",
            "14\n",
            "16\n",
            "18\n",
            "20\n"
          ]
        }
      ]
    },
    {
      "cell_type": "markdown",
      "source": [
        "## 5.\tSort your list in alphabetic order."
      ],
      "metadata": {
        "id": "S_psk42kyjbN"
      }
    },
    {
      "cell_type": "code",
      "source": [
        "fruits.sort()\n",
        "print(fruits)"
      ],
      "metadata": {
        "colab": {
          "base_uri": "https://localhost:8080/"
        },
        "id": "qz_mQPl3yld9",
        "outputId": "aab941e9-c40e-4a0e-c180-4fde82096a12"
      },
      "execution_count": 15,
      "outputs": [
        {
          "output_type": "stream",
          "name": "stdout",
          "text": [
            "['apple', 'banana', 'grape', 'organge', 'watermelon']\n"
          ]
        }
      ]
    },
    {
      "cell_type": "markdown",
      "source": [
        "## 6.\tPrint out the first three elements of your list."
      ],
      "metadata": {
        "id": "DpV7CGTbyoZ2"
      }
    },
    {
      "cell_type": "code",
      "source": [
        "print(fruits[0:3])"
      ],
      "metadata": {
        "colab": {
          "base_uri": "https://localhost:8080/"
        },
        "id": "zjjL3n6JyqYe",
        "outputId": "830762f5-2254-475c-e5d3-bbd2a5f9e902"
      },
      "execution_count": 16,
      "outputs": [
        {
          "output_type": "stream",
          "name": "stdout",
          "text": [
            "['apple', 'banana', 'grape']\n"
          ]
        }
      ]
    },
    {
      "cell_type": "markdown",
      "source": [
        "## 7.\tCreate a loop to print the last 2 elements of your list."
      ],
      "metadata": {
        "id": "_6YpcETvyr1y"
      }
    },
    {
      "cell_type": "code",
      "source": [
        "for fruit in fruits[-2:]:\n",
        "  print(fruit)"
      ],
      "metadata": {
        "colab": {
          "base_uri": "https://localhost:8080/"
        },
        "id": "trHYar3Iyufd",
        "outputId": "11b672d8-be47-495b-a1c8-ab8fe3b021f9"
      },
      "execution_count": 17,
      "outputs": [
        {
          "output_type": "stream",
          "name": "stdout",
          "text": [
            "organge\n",
            "watermelon\n"
          ]
        }
      ]
    }
  ]
}