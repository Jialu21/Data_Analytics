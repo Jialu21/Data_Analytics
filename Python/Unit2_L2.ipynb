{
  "nbformat": 4,
  "nbformat_minor": 0,
  "metadata": {
    "colab": {
      "name": "Unit2_L2.ipynb",
      "provenance": []
    },
    "kernelspec": {
      "name": "python3",
      "display_name": "Python 3"
    },
    "language_info": {
      "name": "python"
    }
  },
  "cells": [
    {
      "cell_type": "markdown",
      "source": [
        "# **Unit 2 Lesson 2: Intro to Python**\n"
      ],
      "metadata": {
        "id": "8YXCjmZrlvTd"
      }
    },
    {
      "cell_type": "markdown",
      "source": [
        "## 1. What is Python and why is it useful?"
      ],
      "metadata": {
        "id": "yrTxskXZndwq"
      }
    },
    {
      "cell_type": "markdown",
      "source": [
        "Python is a programming language that aims to be easy to read and understand. It is interactive and object-oriented. It is useful because it has many libraries for users to perform data analytics with large datasets. It can be used to make prediction model by machine learning and visulize data. As a high-level programming language, it can perform many complex operations."
      ],
      "metadata": {
        "id": "50uanhOCZptf"
      }
    },
    {
      "cell_type": "markdown",
      "source": [
        "## 2. Are the following variable names allowed in python?"
      ],
      "metadata": {
        "id": "4T1XKCnQl7D2"
      }
    },
    {
      "cell_type": "markdown",
      "source": [
        "a. 1_message\n",
        "\n",
        "b. Greeting_message\n",
        "\n",
        "c. Message_1 \n",
        "\n",
        "d. First name \n",
        "\n",
        "e. Full_name\n"
      ],
      "metadata": {
        "id": "JFBlFX1NZxZc"
      }
    },
    {
      "cell_type": "markdown",
      "source": [
        "b, c, e are allowed in Python."
      ],
      "metadata": {
        "id": "O8bag0TVn6HW"
      }
    },
    {
      "cell_type": "markdown",
      "source": [
        "## 3. Create a variable that holds the string “hello there!”"
      ],
      "metadata": {
        "id": "N3QQMlJ8mTV3"
      }
    },
    {
      "cell_type": "code",
      "execution_count": null,
      "metadata": {
        "id": "cDB5mRD-ZVXY"
      },
      "outputs": [],
      "source": [
        "message = \"hello there!\""
      ]
    },
    {
      "cell_type": "markdown",
      "source": [
        "## 4. Create a variable for first name, last name and an email extension. Concatenating all three together to form an email address. For example: firstnamelastname@gmail.com"
      ],
      "metadata": {
        "id": "zjB3jDJFmYtb"
      }
    },
    {
      "cell_type": "code",
      "source": [
        "first_name = 'Jialu'\n",
        "last_name = 'Li'\n",
        "email_extension = '@gmail.com'\n",
        "email_address = first_name.lower() + last_name.lower() + email_extension\n",
        "print(email_address)"
      ],
      "metadata": {
        "colab": {
          "base_uri": "https://localhost:8080/"
        },
        "id": "w056vQUhaIzE",
        "outputId": "9448b605-e8f4-49d7-99ea-720be2e206b2"
      },
      "execution_count": null,
      "outputs": [
        {
          "output_type": "stream",
          "name": "stdout",
          "text": [
            "jialuli@gmail.com\n"
          ]
        }
      ]
    },
    {
      "cell_type": "markdown",
      "source": [
        "## 5. Store someone you know name in a variable called name. Print their name in lower and uppercase using a method."
      ],
      "metadata": {
        "id": "UHLxgYYzmd8f"
      }
    },
    {
      "cell_type": "code",
      "source": [
        "name = 'Andrew'\n",
        "print(name.lower())\n",
        "print(name.upper())"
      ],
      "metadata": {
        "colab": {
          "base_uri": "https://localhost:8080/"
        },
        "id": "il47_nNYavYC",
        "outputId": "aa891895-76fd-435f-e786-49c967e557ba"
      },
      "execution_count": null,
      "outputs": [
        {
          "output_type": "stream",
          "name": "stdout",
          "text": [
            "andrew\n",
            "ANDREW\n"
          ]
        }
      ]
    },
    {
      "cell_type": "markdown",
      "source": [
        "## 6. Using a variable, ask your friend if they want to hang out on the 15th of the month. For example, “Do you want to hang out on the 15th of this month?” You should have to convert the number to a string."
      ],
      "metadata": {
        "id": "ARWVSDCWmire"
      }
    },
    {
      "cell_type": "code",
      "source": [
        "date = 15\n",
        "message = 'Do you want to hang out on the ' + str(date) + \"th of this month?\"\n",
        "print(message)"
      ],
      "metadata": {
        "colab": {
          "base_uri": "https://localhost:8080/"
        },
        "id": "8maoO4ZTbDmh",
        "outputId": "ef80fab8-4a1c-4bcf-a20b-80552b040767"
      },
      "execution_count": null,
      "outputs": [
        {
          "output_type": "stream",
          "name": "stdout",
          "text": [
            "Do you want to hang out on the 15th of this month?\n"
          ]
        }
      ]
    }
  ]
}