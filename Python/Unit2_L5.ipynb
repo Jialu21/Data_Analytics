{
  "nbformat": 4,
  "nbformat_minor": 0,
  "metadata": {
    "colab": {
      "name": "Unit2_L5.ipynb",
      "provenance": [],
      "authorship_tag": "ABX9TyMkGIQFscZpmW4FfvidBLBM"
    },
    "kernelspec": {
      "name": "python3",
      "display_name": "Python 3"
    },
    "language_info": {
      "name": "python"
    }
  },
  "cells": [
    {
      "cell_type": "markdown",
      "source": [
        "# **Unit 2 Lesson 5: Conditional Operators**"
      ],
      "metadata": {
        "id": "7NSMcubcwIBi"
      }
    },
    {
      "cell_type": "markdown",
      "source": [
        "## 1.\tMake a list of 5 or more usernames, including an admin account.  Imagine you are writing code that will welcome people to your application on login. Loop through the list and print your greeting."
      ],
      "metadata": {
        "id": "t5jF9nrfvqmU"
      }
    },
    {
      "cell_type": "markdown",
      "source": [
        "a.\tIf the admin account logs in, give them a special greeting.  They’re the admin, after all!\n",
        "\n",
        "b.\tOther users can get the generic greeting"
      ],
      "metadata": {
        "id": "sdnccdu3vvES"
      }
    },
    {
      "cell_type": "code",
      "source": [
        "usernames = ['Alien', 'Admin', 'cat_and_fish', 'Music_Boot', 'IceGuy']\n",
        "for username in usernames:\n",
        "  if username == 'Admin':\n",
        "    print('Welcome back, ' + username + \"!!!\")\n",
        "  else:\n",
        "    print('Hi, ' + username)"
      ],
      "metadata": {
        "colab": {
          "base_uri": "https://localhost:8080/"
        },
        "id": "N6yJHurJwXDg",
        "outputId": "0ff8cf44-3d4d-457d-d7f5-34dcf4e13edc"
      },
      "execution_count": null,
      "outputs": [
        {
          "output_type": "stream",
          "name": "stdout",
          "text": [
            "Hi, Alien\n",
            "Welcome back, Admin!!!\n",
            "Hi, cat_and_fish\n",
            "Hi, Music_Boot\n",
            "Hi, IceGuy\n"
          ]
        }
      ]
    },
    {
      "cell_type": "markdown",
      "source": [
        "## 2.\tStore numbers 1-10 in a list"
      ],
      "metadata": {
        "id": "h899u076v8I4"
      }
    },
    {
      "cell_type": "markdown",
      "source": [
        "a.\tLoop through the list\n",
        "\n",
        "b.\tUse an if-elif-else chain inside your loop to print the ordinal ending for each number – for example – 1st, 2nd, 3rd … etc.\n"
      ],
      "metadata": {
        "id": "sU9wyXeZv_JN"
      }
    },
    {
      "cell_type": "code",
      "source": [
        "numbers = list(range(1,11))\n",
        "print(numbers)\n",
        "for num in numbers:\n",
        "  if num == 1:\n",
        "    print(str(num) + 'st')\n",
        "  elif num == 2:\n",
        "    print(str(num) + 'nd')\n",
        "  else:\n",
        "    print(str(num) + 'th')\n"
      ],
      "metadata": {
        "colab": {
          "base_uri": "https://localhost:8080/"
        },
        "id": "zX3IYjXguHgu",
        "outputId": "c8d88beb-43d4-4bc4-8f34-eb63c1fe587e"
      },
      "execution_count": null,
      "outputs": [
        {
          "output_type": "stream",
          "name": "stdout",
          "text": [
            "[1, 2, 3, 4, 5, 6, 7, 8, 9, 10]\n",
            "1st\n",
            "2nd\n",
            "3th\n",
            "4th\n",
            "5th\n",
            "6th\n",
            "7th\n",
            "8th\n",
            "9th\n",
            "10th\n"
          ]
        }
      ]
    }
  ]
}