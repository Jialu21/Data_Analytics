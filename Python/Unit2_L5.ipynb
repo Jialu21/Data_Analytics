{
  "nbformat": 4,
  "nbformat_minor": 0,
  "metadata": {
    "colab": {
      "name": "Unit2_L5.ipynb",
      "provenance": [],
      "collapsed_sections": []
    },
    "kernelspec": {
      "name": "python3",
      "display_name": "Python 3"
    }
  },
  "cells": [
    {
      "cell_type": "markdown",
      "metadata": {
        "id": "Vgs8Kp4TidFQ"
      },
      "source": [
        "# **Unit 2 Lesson 6: Dictionaries**"
      ]
    },
    {
      "cell_type": "markdown",
      "metadata": {
        "id": "_Hq7Ny79iwgD"
      },
      "source": [
        "## 1.\tCreate a simple dictionary that stores 2 variables, for example: first and last name."
      ]
    },
    {
      "cell_type": "code",
      "metadata": {
        "id": "lotvpVpvlKsR"
      },
      "source": [
        "name = {'first_name': 'Wendy', 'last_name': 'Smith'}"
      ],
      "execution_count": 4,
      "outputs": []
    },
    {
      "cell_type": "markdown",
      "metadata": {
        "id": "io_27RSlizno"
      },
      "source": [
        "## 2.\tPrint out those variables stored in your previous dictionary. "
      ]
    },
    {
      "cell_type": "code",
      "metadata": {
        "id": "Dh1o5cAylSHB",
        "colab": {
          "base_uri": "https://localhost:8080/"
        },
        "outputId": "22d25522-c125-41f3-f1fa-d3e78a396f81"
      },
      "source": [
        "print(name)"
      ],
      "execution_count": 5,
      "outputs": [
        {
          "output_type": "stream",
          "name": "stdout",
          "text": [
            "{'first_name': 'Wendy', 'last_name': 'Smith'}\n"
          ]
        }
      ]
    },
    {
      "cell_type": "markdown",
      "metadata": {
        "id": "DAW8m8IQjRyR"
      },
      "source": [
        "## 3.\tAdd a message to those variables on printing: for example: “Hello, firstname lastname!”"
      ]
    },
    {
      "cell_type": "code",
      "metadata": {
        "id": "guULMEhrjYtT",
        "colab": {
          "base_uri": "https://localhost:8080/"
        },
        "outputId": "db3db7c5-09bf-40fb-def0-f02750f69f6a"
      },
      "source": [
        "message = \"Hello, \" + name['first_name'] + \" \" + name['last_name'] + \"!\"\n",
        "print(message)"
      ],
      "execution_count": 9,
      "outputs": [
        {
          "output_type": "stream",
          "name": "stdout",
          "text": [
            "Hello, Wendy Smith!\n"
          ]
        }
      ]
    },
    {
      "cell_type": "markdown",
      "metadata": {
        "id": "dpa_YOt4jXyo"
      },
      "source": [
        "## 4.\tCreate a dictionary that holds 2 key: value pairs:\n",
        "\n",
        "a.\tLook through your dictionary and print each pair,\n"
      ]
    },
    {
      "cell_type": "code",
      "metadata": {
        "id": "pltxfnh3iJLW",
        "colab": {
          "base_uri": "https://localhost:8080/"
        },
        "outputId": "1b7215cd-aae5-407f-aa6a-a1067e69f013"
      },
      "source": [
        "visitors = {'Wendy': \"female\", 'Johnson': 'male'}\n",
        "for name, gender in visitors.items():\n",
        "  print('\\nname: ' + name)\n",
        "  print('\\ngender: ' + gender)"
      ],
      "execution_count": 25,
      "outputs": [
        {
          "output_type": "stream",
          "name": "stdout",
          "text": [
            "\n",
            "name: Wendy\n",
            "\n",
            "gender: female\n",
            "\n",
            "name: Johnson\n",
            "\n",
            "gender: male\n"
          ]
        }
      ]
    },
    {
      "cell_type": "markdown",
      "source": [
        "## 5.\tCreate a nested dictionary containing three dictionaries – these dictionaries could be anything (favorite pets, travel locations, etc.)\n",
        "a.\tLoop through the dictionaries and print a message for each."
      ],
      "metadata": {
        "id": "UlgFz9AryJRB"
      }
    },
    {
      "cell_type": "code",
      "source": [
        "friends = {'Cindy': 'female', 'Alice': 'female', 'David': 'male'}\n",
        "for friend in friends.keys():\n",
        "  print(friend + ' is my best friend!')"
      ],
      "metadata": {
        "colab": {
          "base_uri": "https://localhost:8080/"
        },
        "id": "ROGYMYnNzE6-",
        "outputId": "8893bdb1-4f85-4c80-e575-ccef3c973ea6"
      },
      "execution_count": 15,
      "outputs": [
        {
          "output_type": "stream",
          "name": "stdout",
          "text": [
            "Cindy is my best friend!\n",
            "Alice is my best friend!\n",
            "David is my best friend!\n"
          ]
        }
      ]
    },
    {
      "cell_type": "code",
      "source": [
        "vocabs = {'variable': 'a reserved memory location to store values', 'list': 'an ordered and mutable Python container', 'dictionary': 'an unordered and mutable Python container'}\n",
        "for vocab in vocabs.keys():\n",
        "  print(\"Today, I learn \" + vocab + ' in class.')"
      ],
      "metadata": {
        "colab": {
          "base_uri": "https://localhost:8080/"
        },
        "id": "pCTF4WIByP0j",
        "outputId": "075794d6-06dd-4731-9fd2-6c9f6954d9d6"
      },
      "execution_count": 22,
      "outputs": [
        {
          "output_type": "stream",
          "name": "stdout",
          "text": [
            "Today, I learn variable in class.\n",
            "Today, I learn list in class.\n",
            "Today, I learn dictionary in class.\n"
          ]
        }
      ]
    },
    {
      "cell_type": "code",
      "source": [
        "travel_locations = {'China': 'Beijing', 'Japan': 'Tokyo', 'Australia': 'Sydney'}\n",
        "for key, value in travel_locations.items():\n",
        "  print('I want to visit ' + value + ' in ' + key + '!')"
      ],
      "metadata": {
        "colab": {
          "base_uri": "https://localhost:8080/"
        },
        "id": "c_4ogfD3zh4Z",
        "outputId": "adfb3156-17a2-492a-a65c-e2d66ef9f647"
      },
      "execution_count": 19,
      "outputs": [
        {
          "output_type": "stream",
          "name": "stdout",
          "text": [
            "I want to visit Beijing in China!\n",
            "I want to visit Tokyo in Japan!\n",
            "I want to visit Sydney in Australia!\n"
          ]
        }
      ]
    }
  ]
}