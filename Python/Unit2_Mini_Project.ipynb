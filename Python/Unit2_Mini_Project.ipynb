{
  "nbformat": 4,
  "nbformat_minor": 0,
  "metadata": {
    "colab": {
      "name": "Unit2_Mini_Project.ipynb",
      "provenance": [],
      "collapsed_sections": []
    },
    "kernelspec": {
      "name": "python3",
      "display_name": "Python 3"
    }
  },
  "cells": [
    {
      "cell_type": "markdown",
      "metadata": {
        "id": "Vgs8Kp4TidFQ"
      },
      "source": [
        "# Intrdouction to Python - Mini Project"
      ]
    },
    {
      "cell_type": "markdown",
      "metadata": {
        "id": "_Hq7Ny79iwgD"
      },
      "source": [
        "#Python Project – Odd or Even\n",
        "\n",
        "Ask the user for a number. Depending on whether the number is even or odd, print out an appropriate message to the user. Hint: how does an even / odd number react differently when divided by 2?\n"
      ]
    },
    {
      "cell_type": "code",
      "metadata": {
        "id": "lotvpVpvlKsR",
        "colab": {
          "base_uri": "https://localhost:8080/"
        },
        "outputId": "05594041-5855-408d-e517-7d3defdd8bb6"
      },
      "source": [
        "num = input('Please enter a integer number.')\n",
        "if num % 2 == 0:\n",
        "  print(str(num) + ' is an even number.')\n",
        "else:\n",
        "  print(str(num) + ' is an odd number.')"
      ],
      "execution_count": 2,
      "outputs": [
        {
          "output_type": "stream",
          "name": "stdout",
          "text": [
            "Please enter a integer number.3.5\n",
            "Please enter an integer number.\n"
          ]
        }
      ]
    },
    {
      "cell_type": "markdown",
      "metadata": {
        "id": "io_27RSlizno"
      },
      "source": [
        "# Bonus:\n",
        "\n",
        "1.\tIf the number is a multiple of 4, print out a different message.\n",
        "\n",
        "2.\tAsk the user for two numbers: one number to check (call it num) and one number to divide by (check). If check divides evenly into num, tell that to the user. If not, print a different appropriate message.\n"
      ]
    },
    {
      "cell_type": "code",
      "metadata": {
        "id": "Dh1o5cAylSHB",
        "colab": {
          "base_uri": "https://localhost:8080/"
        },
        "outputId": "09fffa50-9ab5-4d64-8eea-a7fb64b1ec81"
      },
      "source": [
        "num_2 = int(input('Please enter a integer number.'))\n",
        "if num_2 % 4 ==0:\n",
        "  print(str(num_2) + ' is a multiple of 4.')\n",
        "else:\n",
        "  print(str(num_2) + ' is not a multiple of 4.')"
      ],
      "execution_count": 3,
      "outputs": [
        {
          "output_type": "stream",
          "name": "stdout",
          "text": [
            "Please enter a integer number.3\n",
            "3 is not a multiple of 4.\n"
          ]
        }
      ]
    },
    {
      "cell_type": "code",
      "metadata": {
        "id": "vs8ppR-wlSKL",
        "colab": {
          "base_uri": "https://localhost:8080/"
        },
        "outputId": "d315ad45-af65-4e97-b194-643121b4c232"
      },
      "source": [
        "num = int(input('Please enter the first number.'))\n",
        "check = int(input('Please enter the second number.'))\n",
        "if num % check == 0:\n",
        "  print(str(num) + ' divides evenly into ' + str(check) + '.')\n",
        "else:\n",
        "  print(str(num) + ' does not divide evenly into ' + str(check) + '.')"
      ],
      "execution_count": 4,
      "outputs": [
        {
          "output_type": "stream",
          "name": "stdout",
          "text": [
            "Please enter the first number.4\n",
            "Please enter the second number.2\n",
            "4 divides evenly into 2.\n"
          ]
        }
      ]
    }
  ]
}